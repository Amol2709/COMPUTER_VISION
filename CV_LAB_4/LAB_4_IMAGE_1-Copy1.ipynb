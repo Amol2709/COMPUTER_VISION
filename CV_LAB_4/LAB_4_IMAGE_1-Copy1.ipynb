{
 "cells": [
  {
   "cell_type": "code",
   "execution_count": 1,
   "metadata": {},
   "outputs": [],
   "source": [
    "import cv2 as CV\n",
    "import numpy as NP\n",
    "import matplotlib.pyplot as PLT\n",
    "import skimage.feature as F\n",
    "import skimage.filters as SF\n",
    "import imutils.paths as IP"
   ]
  },
  {
   "cell_type": "code",
   "execution_count": 2,
   "metadata": {},
   "outputs": [],
   "source": [
    "images = list(IP.list_images('Taxis')) #...CREATE A LIST OF ALL IMAGES WE HAVE IN FOLDER named AS 'TAXIS'\n",
    "sift = CV.xfeatures2d.SIFT_create() #....CREATING OBJECT "
   ]
  },
  {
   "cell_type": "code",
   "execution_count": 3,
   "metadata": {},
   "outputs": [],
   "source": [
    "A = NP.zeros((9,2))\n",
    "F_X = NP.zeros((3,3))\n",
    "F_Y = NP.zeros((3,3))\n",
    "F_T = NP.zeros((3,3))\n",
    "\n",
    "h_mask = NP.array([[-1,-2,-1],[0,0,0],[1,2,1]])\n",
    "v_mask = NP.transpose(h_mask)"
   ]
  },
  {
   "cell_type": "code",
   "execution_count": 6,
   "metadata": {},
   "outputs": [
    {
     "ename": "error",
     "evalue": "C:\\projects\\opencv-python\\opencv_contrib\\modules\\xfeatures2d\\src\\sift.cpp:1044: error: (-5) image is empty or has incorrect depth (!=CV_8U) in function cv::xfeatures2d::SIFT_Impl::detectAndCompute\n",
     "output_type": "error",
     "traceback": [
      "\u001b[1;31m---------------------------------------------------------------------------\u001b[0m",
      "\u001b[1;31merror\u001b[0m                                     Traceback (most recent call last)",
      "\u001b[1;32m<ipython-input-6-bf896ba1e90d>\u001b[0m in \u001b[0;36m<module>\u001b[1;34m()\u001b[0m\n\u001b[0;32m     39\u001b[0m \u001b[1;33m\u001b[0m\u001b[0m\n\u001b[0;32m     40\u001b[0m \u001b[1;33m\u001b[0m\u001b[0m\n\u001b[1;32m---> 41\u001b[1;33m     \u001b[0mKP\u001b[0m\u001b[1;33m=\u001b[0m \u001b[0msift\u001b[0m\u001b[1;33m.\u001b[0m\u001b[0mdetectAndCompute\u001b[0m\u001b[1;33m(\u001b[0m\u001b[0mR_A\u001b[0m\u001b[1;33m,\u001b[0m\u001b[1;32mNone\u001b[0m\u001b[1;33m)\u001b[0m\u001b[1;33m\u001b[0m\u001b[0m\n\u001b[0m\u001b[0;32m     42\u001b[0m     \u001b[1;31m#X1 = CV.drawKeypoints(I1,KP,2)\u001b[0m\u001b[1;33m\u001b[0m\u001b[1;33m\u001b[0m\u001b[0m\n\u001b[0;32m     43\u001b[0m \u001b[1;33m\u001b[0m\u001b[0m\n",
      "\u001b[1;31merror\u001b[0m: C:\\projects\\opencv-python\\opencv_contrib\\modules\\xfeatures2d\\src\\sift.cpp:1044: error: (-5) image is empty or has incorrect depth (!=CV_8U) in function cv::xfeatures2d::SIFT_Impl::detectAndCompute\n"
     ]
    },
    {
     "data": {
      "text/plain": [
       "<Figure size 432x288 with 0 Axes>"
      ]
     },
     "metadata": {},
     "output_type": "display_data"
    }
   ],
   "source": [
    "for k in range(0,4,2):\n",
    "    PLT.figure(k+1)\n",
    "    \n",
    "    X1 = CV.imread(images[k])\n",
    "    Y1 = X1\n",
    "    I1 = CV.cvtColor(X1,CV.COLOR_BGR2GRAY)\n",
    "\n",
    "    X2 = CV.imread(images[k+1])\n",
    "    Y2 = X2\n",
    "    I2 = CV.cvtColor(X2,CV.COLOR_BGR2GRAY)\n",
    "    \n",
    "    \n",
    "    H = SF.sobel_h(I1)\n",
    "    HORZ = NP.abs(H)\n",
    "    V = SF.sobel_v(I1)\n",
    "    VERT = NP.abs(V)\n",
    "\n",
    "    I_X = HORZ*HORZ\n",
    "    I_Y = VERT*VERT\n",
    "    I_XY = HORZ * VERT\n",
    "\n",
    "    X_B = CV.blur(I_X,(3,3))\n",
    "    Y_B = CV.blur(I_Y,(3,3))\n",
    "    XY_B = CV.blur(I_XY,(3,3))\n",
    "    \n",
    "    \n",
    "    H = NP.zeros((2,2))\n",
    "    R = NP.zeros((I1.shape[0],I1.shape[1]))\n",
    "    for i in range(0,I1.shape[0]):\n",
    "        for j in range(0,I1.shape[1]):\n",
    "            H[0,0] = X_B[i,j]\n",
    "            H[0,1] = XY_B[i,j]\n",
    "            H[1,0] = XY_B[i,j]\n",
    "            H[1,1] = Y_B[i,j]\n",
    "            R[i,j] = (NP.linalg.det(H)) - ((0.04)*(NP.matrix.trace(H))**2)\n",
    "    \n",
    "    R_A = NP.abs(R)\n",
    "    \n",
    "    \n",
    "\n",
    "    KP= sift.detectAndCompute(R_A,None)\n",
    "    #X1 = CV.drawKeypoints(I1,KP,2)\n",
    "    \n",
    "    \n",
    "    for i in range(0,len(KP)):\n",
    "        X_COR = int(KP[i].pt[0])\n",
    "        Y_COR = int(KP[i].pt[1])\n",
    "        X_LOC = X_COR-2\n",
    "        Y_LOC = Y_COR-2\n",
    "    \n",
    "    \n",
    "        WINDOW_1 = I1[Y_LOC:Y_LOC+5,X_LOC:X_LOC+5]\n",
    "        WINDOW_2 = I2[Y_LOC:Y_LOC+5,X_LOC:X_LOC+5]\n",
    "        #F_X  = SF.sobel_h(WINDOW_1)\n",
    "        #F_Y = SF.sobel_v(WINDOW_1)\n",
    "        F_T =I1[Y_COR-1:Y_COR+2,X_COR-1:X_COR+2] - I2[Y_COR-1:Y_COR+2,X_COR-1:X_COR+2]\n",
    "        \n",
    "        for u in range(1,4):\n",
    "            for v in range(1,4):\n",
    "                W_1 = WINDOW_1[u-1:u+2,v-1:v+2]\n",
    "                W_2 = WINDOW_2[u-1:u+2,v-1:v+2]\n",
    "                F_X[u-1][v-1] = NP.sum(W_1*h_mask)\n",
    "                F_Y[u-1][v-1] = NP.sum(W_1*v_mask)\n",
    "        s1 = 0\n",
    "        s2 = 0\n",
    "        for p in range(0,2):\n",
    "            for j in range(0,3):\n",
    "                for k in range(0,3):\n",
    "                    if p == 0:\n",
    "                        A[s1][p] = F_X[j][k]\n",
    "                        s1 = s1+1\n",
    "                    else :\n",
    "                        A[s2][p] = F_Y[j][k]\n",
    "                        s2 = s2+1\n",
    "        if NP.linalg.det(NP.dot(NP.transpose(A),A)) != 0:\n",
    "            S = NP.dot(NP.dot(NP.linalg.inv(NP.dot(NP.transpose(A),A)),NP.transpose(A)),F_T.reshape(9,1))\n",
    "            if int(S[1][0]) == 0 :\n",
    "                S[1][0]= 0.001\n",
    "        PLT.imshow(I1,'gray')\n",
    "        PLT.quiver(X_COR,Y_COR,S[0][0],S[1][0],True)\n",
    "                   \n",
    "        PLT.axis('off')\n",
    "\n",
    "    \n",
    "#X_LIN = []\n",
    "#Y_LIN = []\n",
    "#X_LIN.append(X_COR)\n",
    "#Y_LIN.append(Y_COR)\n",
    "#PLT.quiver(X_COR,Y_COR,S[0][0],S[1][0])\n",
    "\n",
    "#WINDOW_1 = NP.zeros((3,3))\n",
    "#WINDOW_2 = NP.zeros((3,3))"
   ]
  },
  {
   "cell_type": "code",
   "execution_count": null,
   "metadata": {},
   "outputs": [],
   "source": []
  }
 ],
 "metadata": {
  "kernelspec": {
   "display_name": "Python 3",
   "language": "python",
   "name": "python3"
  },
  "language_info": {
   "codemirror_mode": {
    "name": "ipython",
    "version": 3
   },
   "file_extension": ".py",
   "mimetype": "text/x-python",
   "name": "python",
   "nbconvert_exporter": "python",
   "pygments_lexer": "ipython3",
   "version": "3.6.5"
  }
 },
 "nbformat": 4,
 "nbformat_minor": 2
}
