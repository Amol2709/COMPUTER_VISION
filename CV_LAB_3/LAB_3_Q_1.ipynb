{
 "cells": [
  {
   "cell_type": "code",
   "execution_count": 1,
   "metadata": {},
   "outputs": [],
   "source": [
    "#...IMPORTING LIBRARY........"
   ]
  },
  {
   "cell_type": "code",
   "execution_count": 2,
   "metadata": {},
   "outputs": [],
   "source": [
    "import cv2 as CV\n",
    "import numpy as NP\n",
    "import matplotlib.pyplot as PL\n",
    "#from matplotlib import pyplot as PL\n",
    "#from skimage import feature as F\n",
    "import skimage.feature as F\n",
    "import scipy.ndimage as SP\n",
    "import skimage.filters as SF\n",
    "import math as M"
   ]
  },
  {
   "cell_type": "code",
   "execution_count": 3,
   "metadata": {},
   "outputs": [
    {
     "data": {
      "text/plain": [
       "(-0.5, 255.5, 255.5, -0.5)"
      ]
     },
     "execution_count": 3,
     "metadata": {},
     "output_type": "execute_result"
    },
    {
     "data": {
      "image/png": "[encoded data removed]",
      "text/plain": [
       "<Figure size 432x288 with 1 Axes>"
      ]
     },
     "metadata": {},
     "output_type": "display_data"
    }
   ],
   "source": [
    "X_1 = CV.imread('image1.png')\n",
    "X_2= CV.cvtColor(X_1,CV.COLOR_BGR2GRAY)\n",
    "PL.figure(1)\n",
    "PL.imshow(X_2,'gray')\n",
    "PL.title('ORIGINAL IMAGE: ')\n",
    "PL.axis('off')"
   ]
  },
  {
   "cell_type": "code",
   "execution_count": 4,
   "metadata": {},
   "outputs": [],
   "source": [
    "#....APPLYING CANNY EDGE DETECTOR FROM LIBRAY SKIMAGE\n",
    "# ....IT TOOK ARGUMENT AS IMAGE,VALUE OF SIGMA(FOR APPLYINGG GAUSSIAN SMOOTHENEING AND UPPER AND LOWER THRESHOLD VALUE .)"
   ]
  },
  {
   "cell_type": "code",
   "execution_count": 5,
   "metadata": {},
   "outputs": [],
   "source": [
    "X = F.canny(X_2,1,(0.2*NP.min(X_2)),(0.5*NP.max(X_2)))"
   ]
  },
  {
   "cell_type": "code",
   "execution_count": 6,
   "metadata": {},
   "outputs": [],
   "source": [
    "#...IT RETURN IMAGE AS TYPE BOOL SO WE NEED TO CONVERT IT INTO SOME ANOTHER DATA TYPE"
   ]
  },
  {
   "cell_type": "code",
   "execution_count": 7,
   "metadata": {},
   "outputs": [
    {
     "data": {
      "text/plain": [
       "(-0.5, 255.5, 255.5, -0.5)"
      ]
     },
     "execution_count": 7,
     "metadata": {},
     "output_type": "execute_result"
    },
    {
     "data": {
      "image/png": "[encoded data removed]",
      "text/plain": [
       "<Figure size 432x288 with 1 Axes>"
      ]
     },
     "metadata": {},
     "output_type": "display_data"
    }
   ],
   "source": [
    "X.dtype = 'uint8'\n",
    "PL.figure(2)\n",
    "PL.imshow(X,'gray')\n",
    "PL.title('IMAGE AFTER APPLYING CANNY EDGE DETECTOR')\n",
    "PL.axis('off')\n",
    "#NP.min(X)\n",
    "#X.dtype"
   ]
  },
  {
   "cell_type": "code",
   "execution_count": 8,
   "metadata": {},
   "outputs": [],
   "source": [
    "#I = CV.Canny(X_2,(0.1*NP.min(X_2)),(0.2*NP.max(X_2)))\n",
    "#PL.imshow(I,'gray')"
   ]
  },
  {
   "cell_type": "code",
   "execution_count": 9,
   "metadata": {},
   "outputs": [],
   "source": [
    "#...APPLYIG SOBEL OPERATOR"
   ]
  },
  {
   "cell_type": "code",
   "execution_count": 10,
   "metadata": {},
   "outputs": [
    {
     "data": {
      "text/plain": [
       "Text(0.5,1,'VERTICAL EDGE')"
      ]
     },
     "execution_count": 10,
     "metadata": {},
     "output_type": "execute_result"
    },
    {
     "data": {
      "image/png": "[encoded data removed]",
      "text/plain": [
       "<Figure size 432x288 with 2 Axes>"
      ]
     },
     "metadata": {},
     "output_type": "display_data"
    }
   ],
   "source": [
    "H = SF.sobel_h(X_2)\n",
    "HORZ = NP.abs(H)\n",
    "V = SF.sobel_v(X_2)\n",
    "VERT = NP.abs(V)\n",
    "PL.figure(3)\n",
    "PL.subplot(121)\n",
    "PL.imshow(HORZ,'gray')\n",
    "PL.axis('off')\n",
    "PL.title('HORIZONTAL EDGE')\n",
    "PL.subplot(122)\n",
    "PL.imshow(VERT,'gray')\n",
    "PL.axis('off')\n",
    "PL.title('VERTICAL EDGE')"
   ]
  },
  {
   "cell_type": "code",
   "execution_count": 11,
   "metadata": {},
   "outputs": [],
   "source": [
    "ANGLE = NP.zeros((X_2.shape[0],X_2.shape[1]))\n",
    "for i in range(0,X_2.shape[0]):\n",
    "    for j in range(0,X_2.shape[1]):\n",
    "        ANGLE[i,j] = NP.degrees(NP.arctan2(VERT[i,j],HORZ[i,j]))\n",
    "        "
   ]
  },
  {
   "cell_type": "code",
   "execution_count": 12,
   "metadata": {},
   "outputs": [],
   "source": [
    "if X.shape[0]==X.shape[1]:\n",
    "    count = int(NP.round(NP.sqrt(2) * X.shape[0]))\n",
    "else:\n",
    "    count = int(NP.round(NP.sqrt(X.shape[0]**X.shape[0] + X.shape[1]**X.shape[1])))\n"
   ]
  },
  {
   "cell_type": "code",
   "execution_count": 13,
   "metadata": {},
   "outputs": [],
   "source": [
    "H_SPACE = NP.zeros((count,91))\n"
   ]
  },
  {
   "cell_type": "code",
   "execution_count": 14,
   "metadata": {},
   "outputs": [],
   "source": [
    "#.......TRANSFORMING INTO HOUGH SPACE"
   ]
  },
  {
   "cell_type": "code",
   "execution_count": 15,
   "metadata": {},
   "outputs": [],
   "source": [
    "for y in range(0,X.shape[0]):\n",
    "    for x in range(0,X.shape[1]):\n",
    "        if X[y,x] == 1:\n",
    "            for a in range(0,91):\n",
    "                theta = (M.pi/180 *a)\n",
    "                S = int(NP.round((x*M.cos(theta) + y*M.sin(theta))))\n",
    "                H_SPACE[S,a] = H_SPACE[S,a] + 1"
   ]
  },
  {
   "cell_type": "code",
   "execution_count": 16,
   "metadata": {},
   "outputs": [
    {
     "data": {
      "text/plain": [
       "Text(0.5,1,'HOUGH SPACE')"
      ]
     },
     "execution_count": 16,
     "metadata": {},
     "output_type": "execute_result"
    },
    {
     "data": {
      "image/png": "[encoded data removed]",
      "text/plain": [
       "<Figure size 432x288 with 1 Axes>"
      ]
     },
     "metadata": {},
     "output_type": "display_data"
    }
   ],
   "source": [
    "PL.figure(3)\n",
    "PL.imshow(H_SPACE,'gray')\n",
    "PL.axis('off')\n",
    "PL.title('HOUGH SPACE')"
   ]
  },
  {
   "cell_type": "code",
   "execution_count": 17,
   "metadata": {},
   "outputs": [],
   "source": [
    "I = H_SPACE\n",
    "L = list(I.ravel())\n",
    "L.sort(reverse = True)"
   ]
  },
  {
   "cell_type": "code",
   "execution_count": 18,
   "metadata": {},
   "outputs": [],
   "source": [
    "#print(L)\n",
    "#x1 = M.cos((M.pi/180)*44)\n"
   ]
  },
  {
   "cell_type": "code",
   "execution_count": 19,
   "metadata": {},
   "outputs": [],
   "source": [
    "#......APPLYING HOUGH ALGORITHM FOR DETECTING LINE IN IMAGE....."
   ]
  },
  {
   "cell_type": "code",
   "execution_count": 20,
   "metadata": {},
   "outputs": [],
   "source": [
    "for i in range(0,10):\n",
    "    R = NP.where(H_SPACE == L[i])\n",
    "    for j in range(0,len(R[0])):\n",
    "        x1 = int(R[0][j] * M.cos((M.pi/180)*R[1][j]))\n",
    "        y1 = int(R[0][j] * M.sin((M.pi/180)*R[1][j]))\n",
    "        if R[1][j] == 0:\n",
    "            x2 = x1\n",
    "            y2 = X_2.shape[0]\n",
    "        elif R[1][j] == 90:\n",
    "            y2 = y1\n",
    "            x2 = X_2.shape[1]\n",
    "        Y=CV.line(X_1,(x1,y1),(x2,y2),(250,2,2),5)\n",
    "#Y=CV.line(X_1,(x2,y2),(x2,x2),(253,0,0),5)"
   ]
  },
  {
   "cell_type": "code",
   "execution_count": 21,
   "metadata": {},
   "outputs": [
    {
     "data": {
      "text/plain": [
       "Text(0.5,1,'OUTPUT IMAGE: ')"
      ]
     },
     "execution_count": 21,
     "metadata": {},
     "output_type": "execute_result"
    },
    {
     "data": {
      "image/png": "[encoded data removed]",
      "text/plain": [
       "<Figure size 432x288 with 1 Axes>"
      ]
     },
     "metadata": {},
     "output_type": "display_data"
    }
   ],
   "source": [
    "PL.figure(3)\n",
    "PL.imshow(Y,'gray')\n",
    "PL.axis('off')\n",
    "PL.title('OUTPUT IMAGE: ')"
   ]
  },
  {
   "cell_type": "code",
   "execution_count": null,
   "metadata": {},
   "outputs": [],
   "source": []
  }
 ],
 "metadata": {
  "kernelspec": {
   "display_name": "Python 3",
   "language": "python",
   "name": "python3"
  },
  "language_info": {
   "codemirror_mode": {
    "name": "ipython",
    "version": 3
   },
   "file_extension": ".py",
   "mimetype": "text/x-python",
   "name": "python",
   "nbconvert_exporter": "python",
   "pygments_lexer": "ipython3",
   "version": "3.6.5"
  }
 },
 "nbformat": 4,
 "nbformat_minor": 2
}
