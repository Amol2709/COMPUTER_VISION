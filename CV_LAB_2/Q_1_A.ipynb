{
 "cells": [
  {
   "cell_type": "markdown",
   "metadata": {},
   "source": [
    "# QUESTION_1"
   ]
  },
  {
   "cell_type": "code",
   "execution_count": 1,
   "metadata": {},
   "outputs": [],
   "source": [
    "import cv2 as CV\n",
    "import numpy as NP\n",
    "import matplotlib.pyplot as PL"
   ]
  },
  {
   "cell_type": "code",
   "execution_count": 2,
   "metadata": {},
   "outputs": [],
   "source": [
    "X = CV.imread('fig1.png')\n"
   ]
  },
  {
   "cell_type": "code",
   "execution_count": 3,
   "metadata": {},
   "outputs": [
    {
     "data": {
      "text/plain": [
       "(-0.5, 255.5, 255.5, -0.5)"
      ]
     },
     "execution_count": 3,
     "metadata": {},
     "output_type": "execute_result"
    },
    {
     "data": {
      "image/png": "[encoded data removed]",
      "text/plain": [
       "<Figure size 432x288 with 1 Axes>"
      ]
     },
     "metadata": {},
     "output_type": "display_data"
    }
   ],
   "source": [
    "X_1 = CV.cvtColor(X,CV.COLOR_BGR2GRAY)\n",
    "PL.figure(1)\n",
    "PL.imshow(X_1,'gray')\n",
    "PL.title('GRAYSCALE IMAGE')\n",
    "PL.axis('off')"
   ]
  },
  {
   "cell_type": "code",
   "execution_count": 4,
   "metadata": {},
   "outputs": [],
   "source": [
    "\n",
    "I_BLUR = CV.GaussianBlur(X_1,(5,5),0) #...APPLYING GAUSSIAN SMOOTHING\n"
   ]
  },
  {
   "cell_type": "code",
   "execution_count": 5,
   "metadata": {},
   "outputs": [
    {
     "data": {
      "text/plain": [
       "(-0.5, 255.5, 255.5, -0.5)"
      ]
     },
     "execution_count": 5,
     "metadata": {},
     "output_type": "execute_result"
    },
    {
     "data": {
      "image/png": "[encoded data removed]",
      "text/plain": [
       "<Figure size 432x288 with 1 Axes>"
      ]
     },
     "metadata": {},
     "output_type": "display_data"
    }
   ],
   "source": [
    "PL.figure(2)\n",
    "PL.imshow(I_BLUR,'gray')\n",
    "PL.title('SMOOTH IMAGE')\n",
    "PL.axis('off')"
   ]
  },
  {
   "cell_type": "markdown",
   "metadata": {},
   "source": [
    "*. SOBEL OPERATOR"
   ]
  },
  {
   "cell_type": "code",
   "execution_count": 6,
   "metadata": {},
   "outputs": [],
   "source": [
    "X1_EDGE = CV.Sobel(I_BLUR,CV.CV_64F,1,0,9)  #....for HORIZONTAL ED\n",
    "Y1_EDGE = CV.Sobel(I_BLUR,CV.CV_64F,0,1,9)\n",
    "\n"
   ]
  },
  {
   "cell_type": "markdown",
   "metadata": {},
   "source": [
    "*. FUNCTION FOR SOBEL EDGE>>>DETECTION"
   ]
  },
  {
   "cell_type": "code",
   "execution_count": 7,
   "metadata": {},
   "outputs": [],
   "source": [
    "def conv(IM,K):\n",
    "    #......CREATING MATRIX OF ALL ZEROS FOR ZERO PADDIN\n",
    "    Z_H = NP.zeros((IM.shape[0]+2,IM.shape[1]+2))\n",
    "    Z_V = NP.zeros((IM.shape[0]+2,IM.shape[1]+2))\n",
    "    F = NP.zeros((IM.shape[0]+2,IM.shape[1]+2))\n",
    "    \n",
    "    \n",
    "    #......PADDING ZEROS\n",
    "    Z_H[1:Z_H.shape[0]-1,1:Z_H.shape[1]-1] = IM\n",
    "    Z_V[1:Z_V.shape[0]-1,1:Z_V.shape[1]-1] = IM\n",
    "    \n",
    "    # FOLLOWING IS THE LOOP FOR PERFROMING CONVOLUTION OF 3X3 SOBEL OPERTOR KERNEL WITH ALL 3X3 CELL OF AN IMAGE\n",
    "    \n",
    "    for i in range(0,Z_H.shape[0]-2):\n",
    "        for j in range(0,Z_H.shape[1]-2):\n",
    "            Z_H[i,j]=NP.abs(sum(sum(Z_H[i:i+3,j:j+3]*K)))  #....HORIZANTAL EDGE IMAGE\n",
    "            Z_V[i,j]=NP.abs(sum(sum(Z_V[i:i+3,j:j+3]*K.T))) #....VERTICAL EDGE IMAGE\n",
    "            F[i,j] = Z_H[i,j]**2 + Z_V[i,j]**2 \n",
    "            \n",
    "    print(min(list(Z_H.ravel())))\n",
    "    print(max(list(Z_H.ravel())))\n",
    "    print(min(list(Z_V.ravel())))\n",
    "    print(max(list(Z_V.ravel())))\n",
    "    F = NP.sqrt(F) #.....MAGNITUDE EDGE OF GIVEN IMAGE\n",
    "    \n",
    "    #....DISPLAYING RESULT\n",
    "    OUTPUT_X = NP.zeros((IM.shape[0],IM.shape[1]))\n",
    "    OUTPUT_X = Z_H[1:Z_H.shape[0]-1,1:Z_H.shape[1]-1]\n",
    "    OUTPUT_Y = NP.zeros((IM.shape[0],IM.shape[1]))\n",
    "    OUTPUT_Y = Z_V[1:Z_V.shape[0]-1,1:Z_V.shape[1]-1]\n",
    "    \n",
    "   # PL.figure(1)\n",
    "    PL.subplot(211)\n",
    "    PL.imshow(OUTPUT_X,'gray')\n",
    "    PL.title('HORIZONTAL EDGE')\n",
    "    PL.axis('off')\n",
    "    #PL.figure(2)\n",
    "    PL.subplot(212)\n",
    "    PL.imshow(OUTPUT_Y,'gray')\n",
    "    PL.title('VERTICAL EDGE')\n",
    "    PL.axis('off')\n",
    "    #PL.figure(3)\n",
    "    #PL.imshow(F,'gray')\n",
    "    #PL.title('EDGE DETECTION BY TAKING MAGNITUDE')\n",
    "    #PL.axis('off')\n",
    "    #print(IM.shape)\n",
    "    return OUTPUT_X,OUTPUT_Y\n"
   ]
  },
  {
   "cell_type": "markdown",
   "metadata": {},
   "source": [
    "*.. CALLING FUNCTION OF EDGE DETECTION"
   ]
  },
  {
   "cell_type": "code",
   "execution_count": 8,
   "metadata": {},
   "outputs": [
    {
     "name": "stdout",
     "output_type": "stream",
     "text": [
      "0.0\n",
      "560.0\n",
      "0.0\n",
      "560.0\n"
     ]
    },
    {
     "data": {
      "image/png": "[encoded data removed]",
      "text/plain": [
       "<Figure size 432x288 with 2 Axes>"
      ]
     },
     "metadata": {},
     "output_type": "display_data"
    }
   ],
   "source": [
    "S = NP.array([[-1,-2,-1],[0,0,0],[1,2,1]])\n",
    "PL.figure(3)\n",
    "X_EDGE,Y_EDGE = conv(I_BLUR,S)\n"
   ]
  },
  {
   "cell_type": "code",
   "execution_count": 9,
   "metadata": {},
   "outputs": [
    {
     "data": {
      "text/plain": [
       "(-0.5, 255.5, 255.5, -0.5)"
      ]
     },
     "execution_count": 9,
     "metadata": {},
     "output_type": "execute_result"
    },
    {
     "data": {
      "image/png": "[encoded data removed]",
      "text/plain": [
       "<Figure size 432x288 with 1 Axes>"
      ]
     },
     "metadata": {},
     "output_type": "display_data"
    }
   ],
   "source": [
    "\n",
    "EDGE = X_EDGE + Y_EDGE\n",
    "PL.figure(4)\n",
    "PL.imshow(EDGE,'gray')\n",
    "PL.title('EDGE BY SOBEL: ')\n",
    "PL.axis('off')\n"
   ]
  },
  {
   "cell_type": "markdown",
   "metadata": {},
   "source": [
    "*... QUANTAZING ANGLE"
   ]
  },
  {
   "cell_type": "code",
   "execution_count": 10,
   "metadata": {},
   "outputs": [],
   "source": [
    "ANGLE = NP.zeros((EDGE.shape[0],EDGE.shape[1]))\n",
    "for i in range(0,EDGE.shape[0]):\n",
    "    for j in range(0,EDGE.shape[1]):\n",
    "        ANGLE[i,j] = int(NP.degrees(NP.arctan2(Y1_EDGE[i,j],X1_EDGE[i,j])))\n",
    "        if (-20<=ANGLE[i,j]<=20)  or (-180<=ANGLE[i,j]<=-160) or (160<=ANGLE[i,j]<=180):\n",
    "            ANGLE[i,j] = 0\n",
    "        if (21<=ANGLE[i,j]<=61) or (-159<=ANGLE[i,j]<=-115) :\n",
    "            ANGLE[i,j] = 45\n",
    "        if (62<=ANGLE[i,j]<=114) or (-114<=ANGLE[i,j]<=-61) :\n",
    "            ANGLE[i,j] = 90 \n",
    "        if (115<=ANGLE[i,j]<=159) or (-62<=ANGLE[i,j]<=-19) :\n",
    "            ANGLE[i,j] = 135  "
   ]
  },
  {
   "cell_type": "markdown",
   "metadata": {},
   "source": [
    "*. NON MAXIMAL SUPPRESSION: "
   ]
  },
  {
   "cell_type": "code",
   "execution_count": 11,
   "metadata": {},
   "outputs": [],
   "source": [
    "I =NP.zeros((EDGE.shape[0]+2,EDGE.shape[1]+2))\n",
    "I[1:I.shape[0]-1,1:I.shape[1]-1] = EDGE\n",
    "for i in range(0,EDGE.shape[0]):\n",
    "    for j in range(0,EDGE.shape[1]):\n",
    "        r = i+1\n",
    "        c = j+1\n",
    "        if int(ANGLE[i,j]) == 0:\n",
    "            if (I[r,c] < I[r,c+1]) or (I[r,c] < I[r,c-1] ):\n",
    "                EDGE[i,j] = 0\n",
    "            elif (I[r,c] >= I[r,c+1]) and (I[r,c] >= I[r,c-1] ):\n",
    "                EDGE[i,j] = EDGE[i,j]\n",
    "        if int(ANGLE[i,j]) == 45:\n",
    "            if (I[r,c] < I[r-1,c+1]) or (I[r,c] < I[r+1,c-1] ):\n",
    "                EDGE[i,j] = 0\n",
    "            elif (I[r,c] >= I[r-1,c+1]) and (I[r,c] >= I[r+1,c-1] ):\n",
    "                EDGE[i,j] = EDGE[i,j]  \n",
    "        if int(ANGLE[i,j]) == 90:\n",
    "            if (I[r,c] < I[r+1,c]) or (I[r,c] < I[r-1,c] ):\n",
    "                EDGE[i,j] = 0\n",
    "            elif (I[r,c] >= I[r+1,c]) and (I[r,c] >= I[r-1,c] ):\n",
    "                EDGE[i,j] = EDGE[i,j] \n",
    "        if int(ANGLE[i,j]) == 135:\n",
    "            if (I[r,c] < I[r+1,c+1]) or (I[r,c] <I[r-1,c-1] ):\n",
    "                EDGE[i,j] = 0\n",
    "            elif (I[r,c] >= I[r+1,c+1]) and (I[r,c] >=I[r-1,c-1] ):\n",
    "                EDGE[i,j] = EDGE[i,j]    "
   ]
  },
  {
   "cell_type": "code",
   "execution_count": 12,
   "metadata": {},
   "outputs": [
    {
     "data": {
      "text/plain": [
       "(-0.5, 255.5, 255.5, -0.5)"
      ]
     },
     "execution_count": 12,
     "metadata": {},
     "output_type": "execute_result"
    },
    {
     "data": {
      "image/png": "[encoded data removed]",
      "text/plain": [
       "<Figure size 432x288 with 1 Axes>"
      ]
     },
     "metadata": {},
     "output_type": "display_data"
    }
   ],
   "source": [
    "PL.figure(5)\n",
    "PL.imshow(EDGE,'gray')\n",
    "PL.title('IMAGE AFTER NON MAXIMAL SUPPRESSION')\n",
    "PL.axis('off')"
   ]
  },
  {
   "cell_type": "code",
   "execution_count": 13,
   "metadata": {},
   "outputs": [],
   "source": [
    "\n",
    "for i in range(0,EDGE.shape[0]):\n",
    "    for j in range(0,EDGE.shape[1]):\n",
    "        if EDGE[i,j] >=int(0.70*NP.max(EDGE)):\n",
    "            EDGE[i,j] = 2\n",
    "        elif int(0.2*NP.max(EDGE))<=EDGE[i,j]<int(0.5*NP.max(EDGE)):\n",
    "            EDGE[i,j] = 1\n",
    "        else:\n",
    "            EDGE[i,j] =0\n",
    "            "
   ]
  },
  {
   "cell_type": "markdown",
   "metadata": {},
   "source": [
    "*.THRESHOLDING ALGORITHM"
   ]
  },
  {
   "cell_type": "code",
   "execution_count": 14,
   "metadata": {},
   "outputs": [],
   "source": [
    "\n",
    "I = NP.zeros((EDGE.shape[0]+2,EDGE.shape[1]+2))\n",
    "I[1:EDGE.shape[0]+1,1:EDGE.shape[1]+1] = EDGE\n",
    "NEW = NP.zeros((EDGE.shape[0]+2,EDGE.shape[1]+2))\n",
    "for i in range(0,EDGE.shape[0]):\n",
    "    for j in range(0,EDGE.shape[1]):\n",
    "        r1 = i+1\n",
    "        c1 = j+1\n",
    "        if EDGE[i,j] == 1:\n",
    "            if NEW[i,j] == 2:\n",
    "                NEW[i,j] = 2\n",
    "        elif EDGE[i,j] == 2:\n",
    "            if (NP.abs(I[r1,c1] - I[r1-1,c1]) == 1)  or (NP.abs(I[r1,c1] - I[r1-1,c1])== 0)  :\n",
    "                NEW[r1-1,c1] = 2\n",
    "            elif (NP.abs(I[r1,c1] - I[r1+1,c1]) == 1)  or (NP.abs(I[r1,c1] - I[r1+1,c1]) == 0)  :\n",
    "                NEW[r1+1,c1] = 2\n",
    "            elif (NP.abs(I[r1,c1] - I[r1,c1+1]) == 1)  or (NP.abs(I[r1,c1] - I[r1,c1+1]) == 0)  :\n",
    "                NEW[r1,c1+1] = 2\n",
    "            elif (NP.abs(I[r1,c1] - I[r1,c1-1]) == 1)  or (NP.abs(I[r1,c1] - I[r1,c1-1]) == 0)  :\n",
    "                NEW[r1,c1-1] = 2\n",
    "            elif (NP.abs(I[r1,c1] - I[r1-1,c1-1]) == 1)  or (NP.abs(I[r1,c1] - I[r1-1,c1-1]) == 0)  :\n",
    "                NEW[r1-1,c1-1] = 2\n",
    "            elif (NP.abs(I[r1,c1] - I[r1+1,c1+1]) == 1)  or (NP.abs(I[r1,c1] - I[r1+1,c1+1]) == 0)  :\n",
    "                NEW[r1+1,c1+1] = 2\n"
   ]
  },
  {
   "cell_type": "code",
   "execution_count": 15,
   "metadata": {},
   "outputs": [
    {
     "data": {
      "text/plain": [
       "(-0.5, 253.5, 253.5, -0.5)"
      ]
     },
     "execution_count": 15,
     "metadata": {},
     "output_type": "execute_result"
    },
    {
     "data": {
      "image/png": "[encoded data removed]",
      "text/plain": [
       "<Figure size 432x288 with 1 Axes>"
      ]
     },
     "metadata": {},
     "output_type": "display_data"
    }
   ],
   "source": [
    "\n",
    "OUTPUT = NP.zeros((EDGE.shape[0],EDGE.shape[1]))\n",
    "OUTPUT = NEW[1:EDGE.shape[0]-1,1:EDGE.shape[1]-1]\n",
    "#PL.figure(1)\n",
    "#PL.imshow(NEW,'gray')\n",
    "PL.figure(6)\n",
    "PL.imshow(OUTPUT,'gray')\n",
    "PL.title('OUTPUT IMAGE AFTER THRESHOLDING')\n",
    "PL.axis('off')\n",
    "\n",
    "\n"
   ]
  },
  {
   "cell_type": "code",
   "execution_count": null,
   "metadata": {},
   "outputs": [],
   "source": []
  }
 ],
 "metadata": {
  "kernelspec": {
   "display_name": "Python 3",
   "language": "python",
   "name": "python3"
  },
  "language_info": {
   "codemirror_mode": {
    "name": "ipython",
    "version": 3
   },
   "file_extension": ".py",
   "mimetype": "text/x-python",
   "name": "python",
   "nbconvert_exporter": "python",
   "pygments_lexer": "ipython3",
   "version": "3.6.5"
  }
 },
 "nbformat": 4,
 "nbformat_minor": 2
}
